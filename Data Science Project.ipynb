{
 "cells": [
  {
   "cell_type": "markdown",
   "metadata": {},
   "source": [
    "What are the differences in recovery between small and large capital companies?\n",
    "How does COVID-19 affect the liquidity and profitability of these companies?\n"
   ]
  },
  {
   "cell_type": "markdown",
   "metadata": {},
   "source": [
    "Step 1: Preparing indexes Russel 2000, s&p 600, s&p 500\n",
    "Step 2: Start comparing sector indexes within the 3 above\n",
    "Step 3: Look at the 3 buckets \n",
    "\n",
    "Profitability: EBITDA, revenue, earnings per share\n",
    "Leverage: Total debt/ total equity, interest coverage ratio, financing cashflow\n",
    "Liquidity: Current and quick ratio, working capital"
   ]
  },
  {
   "cell_type": "code",
   "execution_count": 2,
   "metadata": {},
   "outputs": [
    {
     "name": "stdout",
     "output_type": "stream",
     "text": [
      "{\"week52change\":1.080121,\"week52high\":142.76,\"week52low\":53.99,\"marketcap\":1972376416181,\"employees\":139019,\"day200MovingAvg\":88.78,\"day50MovingAvg\":117.27,\"float\":18155457854,\"avg10Volume\":149296341.2,\"avg30Volume\":200203165.8,\"ttmEPS\":3.4809,\"ttmDividendRate\":0.7959,\"companyName\":\"Apple, Inc.\",\"sharesOutstanding\":17659123965,\"maxChangePercent\":446.945,\"year5ChangePercent\":3.2287,\"year2ChangePercent\":0.9797,\"year1ChangePercent\":1.0855,\"ytdChangePercent\":0.5488,\"month6ChangePercent\":0.8594,\"month3ChangePercent\":0.2442,\"month1ChangePercent\":-0.1413,\"day30ChangePercent\":-0.0927,\"day5ChangePercent\":-0.0174,\"nextDividendDate\":null,\"dividendYield\":0.006970176075228049,\"nextEarningsDate\":\"2020-10-21\",\"exDividendDate\":\"2020-08-26\",\"peRatio\":35.64,\"beta\":1.16348610025709,\"totalCash\":101719937117,\"currentDebt\":16341425409,\"revenue\":262139782643,\"grossProfit\":100974464030,\"totalRevenue\":270687295696,\"EBITDA\":74972543219,\"revenuePerShare\":15.25,\"revenuePerEmployee\":1907487.65,\"debtToEquity\":1.2,\"profitMargin\":0.2182732110882822,\"enterpriseValue\":2018929752737,\"enterpriseValueToRevenue\":7.66,\"priceToSales\":7.61,\"priceToBook\":21.71283063954208,\"forwardPERatio\":36.12,\"pegRatio\":1.95,\"peHigh\":43.52884041533219,\"peLow\":16.292759449166912,\"week52highDate\":\"2020-09-01\",\"week52lowDate\":\"2020-03-10\",\"putCallRatio\":4.494760286280767}\n"
     ]
    }
   ],
   "source": [
    "import http.client\n",
    "import mimetypes\n",
    "conn = http.client.HTTPSConnection(\"sandbox.iexapis.com\")\n",
    "payload = ''\n",
    "headers = {\n",
    "  'Authorization': 'pk_f771dbbe9132446cacf7ad344c7671ac ',\n",
    "  'Cookie': 'ctoken=2e9b387a4c7f489eaf5a9b6b56a07094'\n",
    "}\n",
    "conn.request(\"GET\", \"/stable/stock/aapl/advanced-stats?token=Tsk_e1374731f74342459179420f2de92bb1\", payload, headers)\n",
    "res = conn.getresponse()\n",
    "data = res.read()\n",
    "print(data.decode(\"utf-8\"))"
   ]
  },
  {
   "cell_type": "code",
   "execution_count": 4,
   "metadata": {},
   "outputs": [
    {
     "name": "stdout",
     "output_type": "stream",
     "text": [
      "symbol,sector,securityType,bidPrice,bidSize,askPrice,askSize,lastUpdated,lastSalePrice,lastSaleSize,lastSaleTime,volume,seq\r\n",
      "SNAP,technologyservices,cs,0,0,0,0,1602189759253,27.035,100,1602187191002,279117,\r\n",
      "FB,technologyservices,cs,0,0,0,0,1602187200000,263.65,100,1602187191880,621997,\r\n",
      "AIG+,finance,wt,0,0,0,0,1602187200000,0.1896,100,1602181589472,500,\n",
      "<class 'bytes'>\n"
     ]
    }
   ],
   "source": [
    "import SecretKey\n",
    "import pandas as pd\n",
    "import http.client\n",
    "import mimetypes\n",
    "conn = http.client.HTTPSConnection(\"cloud.iexapis.com\")\n",
    "payload = ''\n",
    "headers = {\n",
    "  'Authorization': 'pk_f771dbbe9132446cacf7ad344c7671ac ',\n",
    "  'Cookie': 'ctoken=3d354f10fe14491bade90b88325c8622'\n",
    "}\n",
    "conn.request(\"GET\", \"/stable/tops?symbols=SNAP,fb,AIG%2b&format=csv&token=\" +  SecretKey.get_secret_key(), payload, headers)\n",
    "res = conn.getresponse()\n",
    "data = res.read()\n",
    "print(data.decode(\"utf-8\"))\n",
    "print(type(data))\n",
    "#fin_data = pd.read_csv(data.decode(\"utf-8\"))"
   ]
  },
  {
   "cell_type": "code",
   "execution_count": null,
   "metadata": {},
   "outputs": [],
   "source": []
  }
 ],
 "metadata": {
  "kernelspec": {
   "display_name": "Python 3",
   "language": "python",
   "name": "python3"
  },
  "language_info": {
   "codemirror_mode": {
    "name": "ipython",
    "version": 3
   },
   "file_extension": ".py",
   "mimetype": "text/x-python",
   "name": "python",
   "nbconvert_exporter": "python",
   "pygments_lexer": "ipython3",
   "version": "3.6.8"
  }
 },
 "nbformat": 4,
 "nbformat_minor": 2
}
